{
 "cells": [
  {
   "cell_type": "code",
   "execution_count": 1,
   "metadata": {},
   "outputs": [
    {
     "name": "stderr",
     "output_type": "stream",
     "text": [
      "Using TensorFlow backend.\n"
     ]
    }
   ],
   "source": [
    "import keras\n",
    "import numpy as np\n",
    "import pandas as pd\n",
    "import matplotlib.pyplot as plt"
   ]
  },
  {
   "cell_type": "code",
   "execution_count": 191,
   "metadata": {},
   "outputs": [
    {
     "data": {
      "text/html": [
       "<div>\n",
       "<style scoped>\n",
       "    .dataframe tbody tr th:only-of-type {\n",
       "        vertical-align: middle;\n",
       "    }\n",
       "\n",
       "    .dataframe tbody tr th {\n",
       "        vertical-align: top;\n",
       "    }\n",
       "\n",
       "    .dataframe thead th {\n",
       "        text-align: right;\n",
       "    }\n",
       "</style>\n",
       "<table border=\"1\" class=\"dataframe\">\n",
       "  <thead>\n",
       "    <tr style=\"text-align: right;\">\n",
       "      <th></th>\n",
       "      <th>date</th>\n",
       "      <th>open</th>\n",
       "      <th>high</th>\n",
       "      <th>low</th>\n",
       "      <th>close</th>\n",
       "      <th>volume</th>\n",
       "      <th>Name</th>\n",
       "    </tr>\n",
       "  </thead>\n",
       "  <tbody>\n",
       "    <tr>\n",
       "      <th>0</th>\n",
       "      <td>2013-02-08</td>\n",
       "      <td>15.07</td>\n",
       "      <td>15.12</td>\n",
       "      <td>14.63</td>\n",
       "      <td>14.75</td>\n",
       "      <td>8407500</td>\n",
       "      <td>AAL</td>\n",
       "    </tr>\n",
       "    <tr>\n",
       "      <th>1</th>\n",
       "      <td>2013-02-11</td>\n",
       "      <td>14.89</td>\n",
       "      <td>15.01</td>\n",
       "      <td>14.26</td>\n",
       "      <td>14.46</td>\n",
       "      <td>8882000</td>\n",
       "      <td>AAL</td>\n",
       "    </tr>\n",
       "    <tr>\n",
       "      <th>2</th>\n",
       "      <td>2013-02-12</td>\n",
       "      <td>14.45</td>\n",
       "      <td>14.51</td>\n",
       "      <td>14.10</td>\n",
       "      <td>14.27</td>\n",
       "      <td>8126000</td>\n",
       "      <td>AAL</td>\n",
       "    </tr>\n",
       "    <tr>\n",
       "      <th>3</th>\n",
       "      <td>2013-02-13</td>\n",
       "      <td>14.30</td>\n",
       "      <td>14.94</td>\n",
       "      <td>14.25</td>\n",
       "      <td>14.66</td>\n",
       "      <td>10259500</td>\n",
       "      <td>AAL</td>\n",
       "    </tr>\n",
       "    <tr>\n",
       "      <th>4</th>\n",
       "      <td>2013-02-14</td>\n",
       "      <td>14.94</td>\n",
       "      <td>14.96</td>\n",
       "      <td>13.16</td>\n",
       "      <td>13.99</td>\n",
       "      <td>31879900</td>\n",
       "      <td>AAL</td>\n",
       "    </tr>\n",
       "  </tbody>\n",
       "</table>\n",
       "</div>"
      ],
      "text/plain": [
       "         date   open   high    low  close    volume Name\n",
       "0  2013-02-08  15.07  15.12  14.63  14.75   8407500  AAL\n",
       "1  2013-02-11  14.89  15.01  14.26  14.46   8882000  AAL\n",
       "2  2013-02-12  14.45  14.51  14.10  14.27   8126000  AAL\n",
       "3  2013-02-13  14.30  14.94  14.25  14.66  10259500  AAL\n",
       "4  2013-02-14  14.94  14.96  13.16  13.99  31879900  AAL"
      ]
     },
     "execution_count": 191,
     "metadata": {},
     "output_type": "execute_result"
    }
   ],
   "source": [
    "stocks = pd.read_csv('data/stocks.csv')\n",
    "stocks.head()"
   ]
  },
  {
   "cell_type": "code",
   "execution_count": 192,
   "metadata": {},
   "outputs": [
    {
     "name": "stdout",
     "output_type": "stream",
     "text": [
      "number of days: 619040\n"
     ]
    }
   ],
   "source": [
    "print(\"number of days:\", len(stocks))"
   ]
  },
  {
   "cell_type": "code",
   "execution_count": 193,
   "metadata": {},
   "outputs": [
    {
     "data": {
      "image/png": "[encoded data removed]",
      "text/plain": [
       "<Figure size 432x288 with 1 Axes>"
      ]
     },
     "metadata": {},
     "output_type": "display_data"
    }
   ],
   "source": [
    "plt.plot(np.arange(1000), stocks['close'][:1000])\n",
    "plt.xlabel('days')\n",
    "plt.ylabel('stock price')\n",
    "plt.title('first 1000 days price')\n",
    "plt.show()"
   ]
  },
  {
   "cell_type": "code",
   "execution_count": 194,
   "metadata": {},
   "outputs": [],
   "source": [
    "sequence_len = 50\n",
    "total_len = len(stocks)\n",
    "data = np.array(stocks['close'])"
   ]
  },
  {
   "cell_type": "code",
   "execution_count": 195,
   "metadata": {},
   "outputs": [],
   "source": [
    "def get_data(split):\n",
    "    \n",
    "    features = []\n",
    "    labels = []\n",
    "    \n",
    "    # normalize by deviding initial price and subtracting mean\n",
    "    data = data/data[0]\n",
    "    mean = np.mean(data)\n",
    "    data -= mean\n",
    "    \n",
    "    for i in range(0, total_len-sequence_len):\n",
    "        x = data[i:i+sequence_len]\n",
    "        y = data[i+sequence_len]\n",
    "        x = x.reshape((sequence_len,1))\n",
    "        features.append(x)\n",
    "        labels.append(y)\n",
    "    \n",
    "    features = np.array(features)\n",
    "    labels = np.array(labels)\n",
    "    size_train = int(len(features)*(1-split))\n",
    "    size_test = int(len(features)*split)\n",
    "    return features[:size_train], labels[:size_train], features[-size_test:], labels[-size_test:]"
   ]
  },
  {
   "cell_type": "code",
   "execution_count": 196,
   "metadata": {
    "scrolled": true
   },
   "outputs": [
    {
     "name": "stdout",
     "output_type": "stream",
     "text": [
      "training size: 617752 testing size: 1237\n"
     ]
    }
   ],
   "source": [
    "split = .002\n",
    "x_train, y_train, x_test, y_test = get_data(split)\n",
    "print(\"training size:\", len(x_train), \"testing size:\", len(x_test))"
   ]
  },
  {
   "cell_type": "code",
   "execution_count": 197,
   "metadata": {},
   "outputs": [],
   "source": [
    "model = keras.models.Sequential()\n",
    "model.add(keras.layers.LSTM(50, input_shape=(sequence_len,1), return_sequences=True))\n",
    "model.add(keras.layers.Dropout(0.2))\n",
    "model.add(keras.layers.LSTM(100, return_sequences=False))\n",
    "model.add(keras.layers.Dropout(0.2))\n",
    "model.add(keras.layers.Dense(1))\n",
    "\n",
    "model.compile(loss='mse', optimizer='adam')"
   ]
  },
  {
   "cell_type": "code",
   "execution_count": 202,
   "metadata": {},
   "outputs": [
    {
     "name": "stdout",
     "output_type": "stream",
     "text": [
      "Epoch 1/1\n",
      "617752/617752 [==============================] - 1158s 2ms/step - loss: 0.5221\n"
     ]
    },
    {
     "data": {
      "text/plain": [
       "<keras.callbacks.History at 0x1250cbac8>"
      ]
     },
     "execution_count": 202,
     "metadata": {},
     "output_type": "execute_result"
    }
   ],
   "source": [
    "model.fit(x_train, y_train, batch_size=64, epochs=1)"
   ]
  },
  {
   "cell_type": "code",
   "execution_count": 203,
   "metadata": {},
   "outputs": [],
   "source": [
    "model.save('model/lstm.model')\n",
    "model = keras.models.load_model('model/lstm.model')"
   ]
  },
  {
   "cell_type": "code",
   "execution_count": 204,
   "metadata": {},
   "outputs": [
    {
     "data": {
      "text/plain": [
       "array([[-3.2672248]], dtype=float32)"
      ]
     },
     "execution_count": 204,
     "metadata": {},
     "output_type": "execute_result"
    }
   ],
   "source": [
    "model.predict(x_test[:1])"
   ]
  },
  {
   "cell_type": "code",
   "execution_count": 205,
   "metadata": {},
   "outputs": [],
   "source": [
    "days = 50                  # no of days in future to predict the stock price\n",
    "initial_price = x_test[0]  # best on this sequence we will generate future prediction\n",
    "\n",
    "pred = []\n",
    "for day in range(days):\n",
    "    \n",
    "    p = model.predict(initial_price.reshape((1,days,1)))\n",
    "    pred.append(np.squeeze(p))\n",
    "    initial_price = np.concatenate([initial_price[1:], pred[day].reshape((1,1))], axis=0)"
   ]
  },
  {
   "cell_type": "code",
   "execution_count": 206,
   "metadata": {},
   "outputs": [
    {
     "data": {
      "text/plain": [
       "array([-3.2672248, -3.2348223, -3.213377 , -3.1859832, -3.1593122,\n",
       "       -3.1315541, -3.1034927, -3.0750723, -3.04641  , -3.0175118,\n",
       "       -2.9883971, -2.9590883, -2.9296274, -2.900065 , -2.870459 ,\n",
       "       -2.8408718, -2.81136  , -2.7819724, -2.752757 , -2.723751 ,\n",
       "       -2.6949868, -2.6664953, -2.638297 , -2.6104088, -2.582851 ,\n",
       "       -2.555636 , -2.5287719, -2.5022683, -2.4761558, -2.4503994,\n",
       "       -2.4250126, -2.4000058, -2.3753748, -2.3511176, -2.3272347,\n",
       "       -2.3037252, -2.280581 , -2.2577996, -2.2353768, -2.213307 ,\n",
       "       -2.1915846, -2.1702046, -2.1491609, -2.1284509, -2.1080675,\n",
       "       -2.088007 , -2.0682616, -2.048831 , -2.029707 , -2.0108876],\n",
       "      dtype=float32)"
      ]
     },
     "execution_count": 206,
     "metadata": {},
     "output_type": "execute_result"
    }
   ],
   "source": [
    "pred = np.array(pred)\n",
    "pred.shape\n",
    "pred"
   ]
  },
  {
   "cell_type": "code",
   "execution_count": 213,
   "metadata": {},
   "outputs": [
    {
     "data": {
      "image/png": "[encoded data removed]",
      "text/plain": [
       "<Figure size 432x288 with 1 Axes>"
      ]
     },
     "metadata": {},
     "output_type": "display_data"
    }
   ],
   "source": [
    "x = np.arange(days)\n",
    "plt.plot(x, pred)\n",
    "plt.plot(x, x_test[1])\n",
    "plt.xlabel('days')\n",
    "plt.ylabel('stock price')\n",
    "plt.legend(['prediction', 'actual'])\n",
    "plt.show()"
   ]
  },
  {
   "cell_type": "code",
   "execution_count": 17,
   "metadata": {},
   "outputs": [],
   "source": [
    "x = stocks['close'][2:5]"
   ]
  },
  {
   "cell_type": "code",
   "execution_count": 132,
   "metadata": {},
   "outputs": [
    {
     "data": {
      "text/plain": [
       "array([1, 2, 3, 3])"
      ]
     },
     "execution_count": 132,
     "metadata": {},
     "output_type": "execute_result"
    }
   ],
   "source": [
    "a = np.array([1,2,3])\n",
    "b = np.array([3])\n",
    "np.concatenate([a,b], axis=0)"
   ]
  },
  {
   "cell_type": "code",
   "execution_count": 190,
   "metadata": {},
   "outputs": [
    {
     "data": {
      "text/plain": [
       "array([[0.02248789]], dtype=float32)"
      ]
     },
     "execution_count": 190,
     "metadata": {},
     "output_type": "execute_result"
    }
   ],
   "source": [
    "model.predict(x_test[1].reshape((1,50,1)))"
   ]
  },
  {
   "cell_type": "code",
   "execution_count": 189,
   "metadata": {},
   "outputs": [
    {
     "data": {
      "text/plain": [
       "array([[-2.01788222],\n",
       "       [-2.04364493],\n",
       "       [-2.01517036],\n",
       "       [-2.0463568 ],\n",
       "       [-1.98737375],\n",
       "       [-1.9582212 ],\n",
       "       [-1.95754324],\n",
       "       [-1.98669578],\n",
       "       [-2.03550934],\n",
       "       [-1.96771273],\n",
       "       [-1.95618731],\n",
       "       [-1.97381442],\n",
       "       [-1.96703476],\n",
       "       [-1.90262798],\n",
       "       [-1.95889917],\n",
       "       [-2.1283907 ],\n",
       "       [-2.06940765],\n",
       "       [-1.96771273],\n",
       "       [-3.38940765],\n",
       "       [-3.37517036],\n",
       "       [-3.34262798],\n",
       "       [-3.35550934],\n",
       "       [-3.37449239],\n",
       "       [-3.3263568 ],\n",
       "       [-3.33584832],\n",
       "       [-3.41178053],\n",
       "       [-3.42262798],\n",
       "       [-3.42059409],\n",
       "       [-3.45584832],\n",
       "       [-3.45788222],\n",
       "       [-3.43889917],\n",
       "       [-3.362289  ],\n",
       "       [-3.2843229 ],\n",
       "       [-3.30127205],\n",
       "       [-3.30533985],\n",
       "       [-3.33517036],\n",
       "       [-3.28703476],\n",
       "       [-3.31889917],\n",
       "       [-3.31279748],\n",
       "       [-3.33720426],\n",
       "       [-3.32500087],\n",
       "       [-3.28161103],\n",
       "       [-3.36296697],\n",
       "       [-3.40364493],\n",
       "       [-3.4063568 ],\n",
       "       [-3.3582212 ],\n",
       "       [-3.36093307],\n",
       "       [-3.38466188],\n",
       "       [-3.42940765],\n",
       "       [-3.42601781]])"
      ]
     },
     "execution_count": 189,
     "metadata": {},
     "output_type": "execute_result"
    }
   ],
   "source": [
    "x_test[10]"
   ]
  },
  {
   "cell_type": "code",
   "execution_count": 187,
   "metadata": {},
   "outputs": [
    {
     "data": {
      "text/plain": [
       "array([-3.32500087, -3.28161103, -3.36296697, ..., -0.62466188,\n",
       "       -0.66262798, -0.62262798])"
      ]
     },
     "execution_count": 187,
     "metadata": {},
     "output_type": "execute_result"
    }
   ],
   "source": [
    "y_test"
   ]
  },
  {
   "cell_type": "code",
   "execution_count": null,
   "metadata": {},
   "outputs": [],
   "source": []
  }
 ],
 "metadata": {
  "kernelspec": {
   "display_name": "Python 3",
   "language": "python",
   "name": "python3"
  },
  "language_info": {
   "codemirror_mode": {
    "name": "ipython",
    "version": 3
   },
   "file_extension": ".py",
   "mimetype": "text/x-python",
   "name": "python",
   "nbconvert_exporter": "python",
   "pygments_lexer": "ipython3",
   "version": "3.6.4"
  }
 },
 "nbformat": 4,
 "nbformat_minor": 2
}
